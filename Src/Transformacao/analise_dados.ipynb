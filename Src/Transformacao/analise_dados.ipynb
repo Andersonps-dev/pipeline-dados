{
 "cells": [
  {
   "cell_type": "code",
   "execution_count": 17,
   "metadata": {},
   "outputs": [
    {
     "name": "stderr",
     "output_type": "stream",
     "text": [
      "Matplotlib is building the font cache; this may take a moment.\n"
     ]
    }
   ],
   "source": [
    "import pandas as pd\n",
    "import sqlite3\n",
    "from datetime import datetime\n",
    "import requests\n",
    "import time\n",
    "import pandas as pd\n",
    "import asyncio\n",
    "from telegram import Bot\n",
    "import matplotlib.pyplot as plt\n",
    "import os\n",
    "from datetime import datetime\n",
    "from dotenv import load_dotenv\n",
    "import psycopg2\n",
    "from sqlalchemy import create_engine\n",
    "import sqlite3\n",
    "import asyncio\n",
    "from telegram import Bot\n",
    "from tabulate import tabulate"
   ]
  },
  {
   "cell_type": "code",
   "execution_count": null,
   "metadata": {},
   "outputs": [],
   "source": [
    "df = pd.read_json(r'C:\\Users\\55359\\Documents\\My Projects\\pipeline-dados\\Dados\\dados_casa_moveis_decoracao.jsonl', lines=True, dtype={\"preco_anterior\": str, \"fracao_preco_anterior\":str, \"preco_atual\":str, \"fracao_preco_atual\":str})"
   ]
  },
  {
   "cell_type": "code",
   "execution_count": 19,
   "metadata": {},
   "outputs": [],
   "source": [
    "def limpar_numero(valor):\n",
    "    if pd.isnull(valor):\n",
    "        return valor\n",
    "    return int(str(valor).replace('.', '').replace(',', ''))\n",
    "\n",
    "colunas_substituir_none = ['preco_anterior', 'fracao_preco_anterior', 'preco_atual', 'fracao_preco_atual']\n",
    "df[colunas_substituir_none] = df[colunas_substituir_none].replace(['None', None], 0)"
   ]
  },
  {
   "cell_type": "code",
   "execution_count": 20,
   "metadata": {},
   "outputs": [],
   "source": [
    "df[\"preco_anterior\"] = df[\"preco_anterior\"].apply(limpar_numero)\n",
    "df[\"fracao_preco_anterior\"] = df[\"fracao_preco_anterior\"].apply(limpar_numero)\n",
    "df[\"preco_atual\"] = df[\"preco_atual\"].apply(limpar_numero)\n",
    "df[\"fracao_preco_atual\"] = df[\"fracao_preco_atual\"].apply(limpar_numero)"
   ]
  },
  {
   "cell_type": "code",
   "execution_count": 21,
   "metadata": {},
   "outputs": [],
   "source": [
    "df['preco_anterior'] = df[\"preco_anterior\"].astype(str) + \",\" + df[\"fracao_preco_anterior\"].astype(str)\n",
    "df['preco_atual'] = df[\"preco_atual\"].astype(str) + \",\" + df[\"fracao_preco_atual\"].astype(str)\n",
    "\n",
    "df = df.drop(columns=['fracao_preco_anterior', 'fracao_preco_atual'])"
   ]
  },
  {
   "cell_type": "code",
   "execution_count": 22,
   "metadata": {},
   "outputs": [],
   "source": [
    "df['porcentagem_desconto'] = df[\"porcentagem_desconto\"].str.extract('(\\d+)')\n",
    "df['porcentagem_desconto'] = df['porcentagem_desconto'].fillna(0)\n",
    "df['porcentagem_desconto'] = df['porcentagem_desconto'].astype(int)\n",
    "\n",
    "df = df.sort_values('porcentagem_desconto', ascending=True)\n",
    "df = df.drop_duplicates(subset=['titulo'], keep='last')\n",
    "df['data_coleta']  = datetime.now()"
   ]
  },
  {
   "cell_type": "code",
   "execution_count": 27,
   "metadata": {},
   "outputs": [
    {
     "data": {
      "text/plain": [
       "Text(0.5, 0, 'Porcentagem de Desconto')"
      ]
     },
     "execution_count": 27,
     "metadata": {},
     "output_type": "execute_result"
    },
    {
     "data": {
      "image/png": "[encoded data removed]",
      "text/plain": [
       "<Figure size 640x480 with 1 Axes>"
      ]
     },
     "metadata": {},
     "output_type": "display_data"
    }
   ],
   "source": [
    "plt.hist(df['porcentagem_desconto'], bins=60)\n",
    "plt.xlabel('Porcentagem de Desconto')"
   ]
  },
  {
   "cell_type": "code",
   "execution_count": 24,
   "metadata": {},
   "outputs": [
    {
     "data": {
      "text/html": [
       "<div>\n",
       "<style scoped>\n",
       "    .dataframe tbody tr th:only-of-type {\n",
       "        vertical-align: middle;\n",
       "    }\n",
       "\n",
       "    .dataframe tbody tr th {\n",
       "        vertical-align: top;\n",
       "    }\n",
       "\n",
       "    .dataframe thead th {\n",
       "        text-align: right;\n",
       "    }\n",
       "</style>\n",
       "<table border=\"1\" class=\"dataframe\">\n",
       "  <thead>\n",
       "    <tr style=\"text-align: right;\">\n",
       "      <th></th>\n",
       "      <th>highlight</th>\n",
       "      <th>titulo</th>\n",
       "      <th>link</th>\n",
       "      <th>vendido_por</th>\n",
       "      <th>nota</th>\n",
       "      <th>total_avaliacoes</th>\n",
       "      <th>preco_anterior</th>\n",
       "      <th>preco_atual</th>\n",
       "      <th>porcentagem_desconto</th>\n",
       "      <th>detalhe_envio</th>\n",
       "      <th>detalhe_envio_2</th>\n",
       "      <th>data_coleta</th>\n",
       "    </tr>\n",
       "  </thead>\n",
       "  <tbody>\n",
       "    <tr>\n",
       "      <th>507</th>\n",
       "      <td>None</td>\n",
       "      <td>Câmera Ip Wifi Icsee  + Cartão De Memória Sd 64gb</td>\n",
       "      <td>https://produto.mercadolivre.com.br/MLB-312343...</td>\n",
       "      <td>None</td>\n",
       "      <td>NaN</td>\n",
       "      <td>NaN</td>\n",
       "      <td>171,98</td>\n",
       "      <td>16,98</td>\n",
       "      <td>0</td>\n",
       "      <td>None</td>\n",
       "      <td>Chegará grátis amanhã sábado</td>\n",
       "      <td>2024-11-22 21:06:23.409306</td>\n",
       "    </tr>\n",
       "    <tr>\n",
       "      <th>115</th>\n",
       "      <td>MAIS VENDIDO</td>\n",
       "      <td>Varal De Luzes Festão 20 Mts Com 20 Lâmpadas I...</td>\n",
       "      <td>https://produto.mercadolivre.com.br/MLB-417369...</td>\n",
       "      <td>None</td>\n",
       "      <td>NaN</td>\n",
       "      <td>NaN</td>\n",
       "      <td>169,55</td>\n",
       "      <td>160,55</td>\n",
       "      <td>4</td>\n",
       "      <td>None</td>\n",
       "      <td>Chegará grátis amanhã</td>\n",
       "      <td>2024-11-22 21:06:23.409306</td>\n",
       "    </tr>\n",
       "    <tr>\n",
       "      <th>447</th>\n",
       "      <td>MAIS VENDIDO</td>\n",
       "      <td>Conjunto 10 Potes 640ml Vidro Hermético 4 Trav...</td>\n",
       "      <td>https://www.mercadolivre.com.br/conjunto-10-po...</td>\n",
       "      <td>Por AURA DO BRASIL</td>\n",
       "      <td>NaN</td>\n",
       "      <td>NaN</td>\n",
       "      <td>169,86</td>\n",
       "      <td>158,86</td>\n",
       "      <td>5</td>\n",
       "      <td>None</td>\n",
       "      <td>Chegará grátis amanhã sábado</td>\n",
       "      <td>2024-11-22 21:06:23.409306</td>\n",
       "    </tr>\n",
       "    <tr>\n",
       "      <th>104</th>\n",
       "      <td>MAIS VENDIDO</td>\n",
       "      <td>Árvore De Natal 210cm 1000 Galhos Pinheiro Lux...</td>\n",
       "      <td>https://www.mercadolivre.com.br/arvore-de-nata...</td>\n",
       "      <td>None</td>\n",
       "      <td>NaN</td>\n",
       "      <td>NaN</td>\n",
       "      <td>397,90</td>\n",
       "      <td>378,0</td>\n",
       "      <td>5</td>\n",
       "      <td>Frete grátis</td>\n",
       "      <td>None</td>\n",
       "      <td>2024-11-22 21:06:23.409306</td>\n",
       "    </tr>\n",
       "    <tr>\n",
       "      <th>248</th>\n",
       "      <td>BLACK FRIDAY</td>\n",
       "      <td>Pisca Pisca Cascata 400 Led 10 Metros Luz Nata...</td>\n",
       "      <td>https://produto.mercadolivre.com.br/MLB-349211...</td>\n",
       "      <td>None</td>\n",
       "      <td>NaN</td>\n",
       "      <td>NaN</td>\n",
       "      <td>78,99</td>\n",
       "      <td>75,4</td>\n",
       "      <td>5</td>\n",
       "      <td>None</td>\n",
       "      <td>Chegará amanhã</td>\n",
       "      <td>2024-11-22 21:06:23.409306</td>\n",
       "    </tr>\n",
       "  </tbody>\n",
       "</table>\n",
       "</div>"
      ],
      "text/plain": [
       "         highlight                                             titulo  \\\n",
       "507           None  Câmera Ip Wifi Icsee  + Cartão De Memória Sd 64gb   \n",
       "115   MAIS VENDIDO  Varal De Luzes Festão 20 Mts Com 20 Lâmpadas I...   \n",
       "447   MAIS VENDIDO  Conjunto 10 Potes 640ml Vidro Hermético 4 Trav...   \n",
       "104   MAIS VENDIDO  Árvore De Natal 210cm 1000 Galhos Pinheiro Lux...   \n",
       "248   BLACK FRIDAY  Pisca Pisca Cascata 400 Led 10 Metros Luz Nata...   \n",
       "\n",
       "                                                  link          vendido_por  \\\n",
       "507  https://produto.mercadolivre.com.br/MLB-312343...                 None   \n",
       "115  https://produto.mercadolivre.com.br/MLB-417369...                 None   \n",
       "447  https://www.mercadolivre.com.br/conjunto-10-po...  Por AURA DO BRASIL    \n",
       "104  https://www.mercadolivre.com.br/arvore-de-nata...                 None   \n",
       "248  https://produto.mercadolivre.com.br/MLB-349211...                 None   \n",
       "\n",
       "     nota  total_avaliacoes preco_anterior preco_atual  porcentagem_desconto  \\\n",
       "507   NaN               NaN         171,98       16,98                     0   \n",
       "115   NaN               NaN         169,55      160,55                     4   \n",
       "447   NaN               NaN         169,86      158,86                     5   \n",
       "104   NaN               NaN         397,90       378,0                     5   \n",
       "248   NaN               NaN          78,99        75,4                     5   \n",
       "\n",
       "    detalhe_envio               detalhe_envio_2                data_coleta  \n",
       "507          None  Chegará grátis amanhã sábado 2024-11-22 21:06:23.409306  \n",
       "115          None         Chegará grátis amanhã 2024-11-22 21:06:23.409306  \n",
       "447          None  Chegará grátis amanhã sábado 2024-11-22 21:06:23.409306  \n",
       "104  Frete grátis                          None 2024-11-22 21:06:23.409306  \n",
       "248          None                Chegará amanhã 2024-11-22 21:06:23.409306  "
      ]
     },
     "execution_count": 24,
     "metadata": {},
     "output_type": "execute_result"
    }
   ],
   "source": [
    "df.head()"
   ]
  }
 ],
 "metadata": {
  "kernelspec": {
   "display_name": ".venv",
   "language": "python",
   "name": "python3"
  },
  "language_info": {
   "codemirror_mode": {
    "name": "ipython",
    "version": 3
   },
   "file_extension": ".py",
   "mimetype": "text/x-python",
   "name": "python",
   "nbconvert_exporter": "python",
   "pygments_lexer": "ipython3",
   "version": "3.11.0"
  }
 },
 "nbformat": 4,
 "nbformat_minor": 2
}
