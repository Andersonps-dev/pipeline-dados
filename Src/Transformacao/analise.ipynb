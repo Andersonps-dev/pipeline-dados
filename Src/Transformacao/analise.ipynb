{
 "cells": [
  {
   "cell_type": "code",
   "execution_count": 9,
   "metadata": {},
   "outputs": [],
   "source": [
    "import pandas as pd\n",
    "import sqlite3\n",
    "from datetime import datetime\n",
    "import requests\n",
    "import time\n",
    "import pandas as pd\n",
    "import asyncio\n",
    "from telegram import Bot\n",
    "import os\n",
    "from datetime import datetime\n",
    "from dotenv import load_dotenv\n",
    "import psycopg2\n",
    "from sqlalchemy import create_engine\n",
    "import sqlite3\n",
    "import asyncio\n",
    "from telegram import Bot\n",
    "from tabulate import tabulate"
   ]
  },
  {
   "cell_type": "code",
   "execution_count": 10,
   "metadata": {},
   "outputs": [],
   "source": [
    "df = pd.read_json(r'C:\\Users\\55359\\Documents\\My Projects\\pipeline-dados\\Dados\\dados_casa_moveis_decoracao.jsonl', lines=True, dtype={\"preco_anterior\": str, \"fracao_preco_anterior\":str, \"preco_atual\":str, \"fracao_preco_atual\":str})"
   ]
  },
  {
   "cell_type": "code",
   "execution_count": 11,
   "metadata": {},
   "outputs": [],
   "source": [
    "def limpar_numero(valor):\n",
    "    if pd.isnull(valor):\n",
    "        return valor\n",
    "    return int(str(valor).replace('.', '').replace(',', ''))\n",
    "\n",
    "colunas_substituir_none = ['preco_anterior', 'fracao_preco_anterior', 'preco_atual', 'fracao_preco_atual']\n",
    "df[colunas_substituir_none] = df[colunas_substituir_none].replace(['None', None], 0)"
   ]
  },
  {
   "cell_type": "code",
   "execution_count": 12,
   "metadata": {},
   "outputs": [],
   "source": [
    "df[\"preco_anterior\"] = df[\"preco_anterior\"].apply(limpar_numero)\n",
    "df[\"fracao_preco_anterior\"] = df[\"fracao_preco_anterior\"].apply(limpar_numero)\n",
    "df[\"preco_atual\"] = df[\"preco_atual\"].apply(limpar_numero)\n",
    "df[\"fracao_preco_atual\"] = df[\"fracao_preco_atual\"].apply(limpar_numero)"
   ]
  },
  {
   "cell_type": "code",
   "execution_count": 13,
   "metadata": {},
   "outputs": [],
   "source": [
    "df['preco_anterior'] = df[\"preco_anterior\"].astype(str) + \",\" + df[\"fracao_preco_anterior\"].astype(str)\n",
    "df['preco_atual'] = df[\"preco_atual\"].astype(str) + \",\" + df[\"fracao_preco_atual\"].astype(str)\n",
    "\n",
    "df = df.drop(columns=['fracao_preco_anterior', 'fracao_preco_atual'])"
   ]
  },
  {
   "cell_type": "code",
   "execution_count": 14,
   "metadata": {},
   "outputs": [],
   "source": [
    "df['porcentagem_desconto'] = df[\"porcentagem_desconto\"].str.extract('(\\d+)')\n",
    "df['porcentagem_desconto'] = df['porcentagem_desconto'].fillna(0)\n",
    "df['porcentagem_desconto'] = df['porcentagem_desconto'].astype(int)\n",
    "\n",
    "df = df.sort_values('porcentagem_desconto', ascending=True)\n",
    "df = df.drop_duplicates(subset=['titulo'], keep='last')\n",
    "df['data_coleta']  = datetime.now()"
   ]
  },
  {
   "cell_type": "code",
   "execution_count": null,
   "metadata": {},
   "outputs": [],
   "source": [
    "df.head()"
   ]
  }
 ],
 "metadata": {
  "kernelspec": {
   "display_name": ".venv",
   "language": "python",
   "name": "python3"
  },
  "language_info": {
   "codemirror_mode": {
    "name": "ipython",
    "version": 3
   },
   "file_extension": ".py",
   "mimetype": "text/x-python",
   "name": "python",
   "nbconvert_exporter": "python",
   "pygments_lexer": "ipython3",
   "version": "3.11.0"
  }
 },
 "nbformat": 4,
 "nbformat_minor": 2
}
