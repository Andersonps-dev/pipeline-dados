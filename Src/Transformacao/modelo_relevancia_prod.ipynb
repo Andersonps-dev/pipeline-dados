{
 "cells": [
  {
   "cell_type": "code",
   "execution_count": 13,
   "metadata": {},
   "outputs": [],
   "source": [
    "import pandas as pd\n",
    "import sqlite3\n",
    "from datetime import datetime\n",
    "import requests\n",
    "import time\n",
    "import asyncio\n",
    "from telegram import Bot\n",
    "import os\n",
    "from dotenv import load_dotenv\n",
    "import psycopg2\n",
    "from sqlalchemy import create_engine\n",
    "from tabulate import tabulate\n",
    "import sys\n",
    "import numpy as np"
   ]
  },
  {
   "cell_type": "code",
   "execution_count": 14,
   "metadata": {},
   "outputs": [],
   "source": [
    "topic_id = 1"
   ]
  },
  {
   "cell_type": "code",
   "execution_count": 15,
   "metadata": {},
   "outputs": [],
   "source": [
    "caminho = os.path.join(r\"C:\\Users\\55359\\Documents\\My Projects\\pipeline-dados\\Dados\", \"dados_games.jsonl\")"
   ]
  },
  {
   "cell_type": "code",
   "execution_count": 16,
   "metadata": {},
   "outputs": [],
   "source": [
    "df = pd.read_json(caminho, lines=True, dtype={\"preco_anterior\": str, \"fracao_preco_anterior\":str, \"preco_atual\":str, \"fracao_preco_atual\":str})"
   ]
  },
  {
   "cell_type": "code",
   "execution_count": 17,
   "metadata": {},
   "outputs": [],
   "source": [
    "def limpar_numero(valor):\n",
    "            if pd.isnull(valor):\n",
    "                return valor\n",
    "            return int(str(valor).replace('.', '').replace(',', ''))"
   ]
  },
  {
   "cell_type": "code",
   "execution_count": 18,
   "metadata": {},
   "outputs": [],
   "source": [
    "colunas_substituir_none = ['preco_anterior', 'fracao_preco_anterior', 'preco_atual', 'fracao_preco_atual']\n",
    "df[colunas_substituir_none] = df[colunas_substituir_none].replace(['None', None], 0)"
   ]
  },
  {
   "cell_type": "code",
   "execution_count": 19,
   "metadata": {},
   "outputs": [],
   "source": [
    "df[\"preco_anterior\"] = df[\"preco_anterior\"].apply(limpar_numero)\n",
    "df[\"fracao_preco_anterior\"] = df[\"fracao_preco_anterior\"].apply(limpar_numero)\n",
    "df[\"preco_atual\"] = df[\"preco_atual\"].apply(limpar_numero)\n",
    "df[\"fracao_preco_atual\"] = df[\"fracao_preco_atual\"].apply(limpar_numero)\n",
    "\n",
    "df['preco_anterior'] = df[\"preco_anterior\"].astype(str) + \",\" + df[\"fracao_preco_anterior\"].astype(str)\n",
    "df['preco_atual'] = df[\"preco_atual\"].astype(str) + \",\" + df[\"fracao_preco_atual\"].astype(str)\n",
    "\n",
    "df = df.drop(columns=['fracao_preco_anterior', 'fracao_preco_atual'])\n",
    "\n",
    "df['porcentagem_desconto'] = df[\"porcentagem_desconto\"].str.extract('(\\d+)')\n",
    "df['porcentagem_desconto'] = df['porcentagem_desconto'].fillna(0)\n",
    "df['porcentagem_desconto'] = df['porcentagem_desconto'].astype(int)\n",
    "\n",
    "df = df.sort_values('porcentagem_desconto', ascending=True)\n",
    "df = df.drop_duplicates(subset=['titulo'], keep='last')\n",
    "df['data_coleta']  = datetime.now()\n",
    "df['topico_de_envio'] = f\"{topic_id}\""
   ]
  },
  {
   "cell_type": "code",
   "execution_count": 20,
   "metadata": {},
   "outputs": [],
   "source": [
    "df['preco_anterior'] = df['preco_anterior'].str.replace(',', '.').astype(float)\n",
    "df['preco_atual'] = df['preco_atual'].str.replace(',', '.').astype(float)\n",
    "df['desconto_reais'] = df['preco_anterior'] - df['preco_atual']"
   ]
  },
  {
   "cell_type": "code",
   "execution_count": 21,
   "metadata": {},
   "outputs": [],
   "source": [
    "PALAVRAS_CHAVES = [\"Jogo De\", \"Kit\"]\n",
    "def calcular_pontuacao(row, lojas_vistas):\n",
    "    pontuacao = 0\n",
    "\n",
    "    # Regras baseadas em porcentagem de desconto\n",
    "    regras_porcentagem = [\n",
    "        {\"condicao\": lambda r: r[\"porcentagem_desconto\"] >= 50, \"pontuacao\": 5},\n",
    "        {\"condicao\": lambda r: r[\"porcentagem_desconto\"] >= 45, \"pontuacao\": 4},\n",
    "        {\"condicao\": lambda r: r[\"porcentagem_desconto\"] >= 40, \"pontuacao\": 3},\n",
    "        {\"condicao\": lambda r: r[\"porcentagem_desconto\"] >= 35, \"pontuacao\": 2},\n",
    "        {\"condicao\": lambda r: r[\"porcentagem_desconto\"] >= 25, \"pontuacao\": 1},\n",
    "    ]\n",
    "\n",
    "    # Regras baseadas em desconto em reais\n",
    "    regras_reais = [\n",
    "        {\"condicao\": lambda r: r[\"desconto_reais\"] > 1000 and r[\"porcentagem_desconto\"] < 50, \"pontuacao\": 5},\n",
    "        {\"condicao\": lambda r: r[\"desconto_reais\"] > 600 and r[\"porcentagem_desconto\"] < 40, \"pontuacao\": 4},\n",
    "        {\"condicao\": lambda r: r[\"desconto_reais\"] > 300 and r[\"porcentagem_desconto\"] < 20, \"pontuacao\": 3},\n",
    "        {\"condicao\": lambda r: r[\"desconto_reais\"] > 100 and r[\"porcentagem_desconto\"] < 10, \"pontuacao\": 3},\n",
    "    ]\n",
    "\n",
    "    # Regras para colunas específicas\n",
    "    regras_gerais = [\n",
    "        {\"condicao\": lambda r: pd.notna(r[\"highlight\"]), \"pontuacao\": 2},\n",
    "        {\"condicao\": lambda r: pd.notna(r[\"vendido_por\"]), \"pontuacao\": 1},\n",
    "        {\"condicao\": lambda r: pd.notna(r[\"detalhe_envio\"]) or pd.notna(r[\"detalhe_envio_2\"]), \"pontuacao\": 1},\n",
    "    ]\n",
    "\n",
    "    # Penalidade para \"vendido_por\" em lojas vistas\n",
    "    penalidade_vendido_por = {\n",
    "        \"condicao\": lambda r: pd.notna(r[\"vendido_por\"]) and r[\"vendido_por\"] in lojas_vistas and r[\"vendido_por\"] != \"Por Mercado Livre\",\n",
    "        \"pontuacao\": -3\n",
    "    }\n",
    "\n",
    "    # Aplicar regras baseadas em porcentagem\n",
    "    for regra in regras_porcentagem:\n",
    "        if regra[\"condicao\"](row):\n",
    "            pontuacao += regra[\"pontuacao\"]\n",
    "\n",
    "    # Aplicar regras baseadas em desconto em reais\n",
    "    for regra in regras_reais:\n",
    "        if regra[\"condicao\"](row):\n",
    "            pontuacao += regra[\"pontuacao\"]\n",
    "\n",
    "    # Aplicar regras gerais\n",
    "    for regra in regras_gerais:\n",
    "        if regra[\"condicao\"](row):\n",
    "            pontuacao += regra[\"pontuacao\"]\n",
    "\n",
    "    # Aplicar penalidade\n",
    "    if penalidade_vendido_por[\"condicao\"](row):\n",
    "        pontuacao += penalidade_vendido_por[\"pontuacao\"]\n",
    "\n",
    "    # Adicionar loja a lojas vistas\n",
    "    if pd.notna(row[\"vendido_por\"]):\n",
    "        lojas_vistas.add(row[\"vendido_por\"])\n",
    "\n",
    "    # Palavras-chave no título\n",
    "    for palavra in PALAVRAS_CHAVES:\n",
    "        if palavra in row['titulo']:\n",
    "            pontuacao += 2\n",
    "\n",
    "    return pontuacao\n",
    "\n",
    "lojas_vistas = set()\n",
    "\n",
    "df[\"pontuacao\"] = df.apply(calcular_pontuacao, axis=1, lojas_vistas=lojas_vistas)\n",
    "\n",
    "def classificar_relevancia(pontuacao):\n",
    "    if pontuacao >= 8:\n",
    "        return \"Relevante\"\n",
    "    elif pontuacao >= 6:\n",
    "        return \"Alta-Relevância\"\n",
    "    elif pontuacao >= 5:\n",
    "        return \"Média-Relevância\"\n",
    "    elif pontuacao >= 2:\n",
    "        return \"Baixa-Relevância\"\n",
    "    else:\n",
    "        return \"Irrelevante\"\n",
    "\n",
    "df[\"relevancia\"] = df[\"pontuacao\"].apply(classificar_relevancia)"
   ]
  },
  {
   "cell_type": "code",
   "execution_count": 12,
   "metadata": {},
   "outputs": [],
   "source": [
    "df.to_excel(r\"C:\\Users\\55359\\Downloads\\base2.xlsx\", index=False)"
   ]
  }
 ],
 "metadata": {
  "kernelspec": {
   "display_name": ".venv",
   "language": "python",
   "name": "python3"
  },
  "language_info": {
   "codemirror_mode": {
    "name": "ipython",
    "version": 3
   },
   "file_extension": ".py",
   "mimetype": "text/x-python",
   "name": "python",
   "nbconvert_exporter": "python",
   "pygments_lexer": "ipython3",
   "version": "3.11.0"
  }
 },
 "nbformat": 4,
 "nbformat_minor": 2
}
