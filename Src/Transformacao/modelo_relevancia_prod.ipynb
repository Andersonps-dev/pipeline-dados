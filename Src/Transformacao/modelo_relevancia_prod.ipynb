{
 "cells": [
  {
   "cell_type": "code",
   "execution_count": 1,
   "metadata": {},
   "outputs": [],
   "source": [
    "import pandas as pd\n",
    "import sqlite3\n",
    "from datetime import datetime\n",
    "import requests\n",
    "import time\n",
    "import asyncio\n",
    "from telegram import Bot\n",
    "import os\n",
    "from dotenv import load_dotenv\n",
    "import psycopg2\n",
    "from sqlalchemy import create_engine\n",
    "from tabulate import tabulate\n",
    "import sys\n",
    "import numpy as np"
   ]
  },
  {
   "cell_type": "code",
   "execution_count": 2,
   "metadata": {},
   "outputs": [],
   "source": [
    "topic_id = 1"
   ]
  },
  {
   "cell_type": "code",
   "execution_count": 3,
   "metadata": {},
   "outputs": [],
   "source": [
    "caminho = os.path.join(r\"C:\\Users\\55359\\Documents\\My Projects\\pipeline-dados\\Dados\", \"dados_games.jsonl\")"
   ]
  },
  {
   "cell_type": "code",
   "execution_count": 4,
   "metadata": {},
   "outputs": [],
   "source": [
    "df = pd.read_json(caminho, lines=True, dtype={\"preco_anterior\": str, \"fracao_preco_anterior\":str, \"preco_atual\":str, \"fracao_preco_atual\":str})"
   ]
  },
  {
   "cell_type": "code",
   "execution_count": 5,
   "metadata": {},
   "outputs": [],
   "source": [
    "def limpar_numero(valor):\n",
    "            if pd.isnull(valor):\n",
    "                return valor\n",
    "            return int(str(valor).replace('.', '').replace(',', ''))"
   ]
  },
  {
   "cell_type": "code",
   "execution_count": 6,
   "metadata": {},
   "outputs": [],
   "source": [
    "colunas_substituir_none = ['preco_anterior', 'fracao_preco_anterior', 'preco_atual', 'fracao_preco_atual']\n",
    "df[colunas_substituir_none] = df[colunas_substituir_none].replace(['None', None], 0)"
   ]
  },
  {
   "cell_type": "code",
   "execution_count": 7,
   "metadata": {},
   "outputs": [],
   "source": [
    "df[\"preco_anterior\"] = df[\"preco_anterior\"].apply(limpar_numero)\n",
    "df[\"fracao_preco_anterior\"] = df[\"fracao_preco_anterior\"].apply(limpar_numero)\n",
    "df[\"preco_atual\"] = df[\"preco_atual\"].apply(limpar_numero)\n",
    "df[\"fracao_preco_atual\"] = df[\"fracao_preco_atual\"].apply(limpar_numero)\n",
    "\n",
    "df['preco_anterior'] = df[\"preco_anterior\"].astype(str) + \",\" + df[\"fracao_preco_anterior\"].astype(str)\n",
    "df['preco_atual'] = df[\"preco_atual\"].astype(str) + \",\" + df[\"fracao_preco_atual\"].astype(str)\n",
    "\n",
    "df = df.drop(columns=['fracao_preco_anterior', 'fracao_preco_atual'])\n",
    "\n",
    "df['porcentagem_desconto'] = df[\"porcentagem_desconto\"].str.extract('(\\d+)')\n",
    "df['porcentagem_desconto'] = df['porcentagem_desconto'].fillna(0)\n",
    "df['porcentagem_desconto'] = df['porcentagem_desconto'].astype(int)\n",
    "\n",
    "df = df.sort_values('porcentagem_desconto', ascending=True)\n",
    "df = df.drop_duplicates(subset=['titulo'], keep='last')\n",
    "df['data_coleta']  = datetime.now()\n",
    "df['topico_de_envio'] = f\"{topic_id}\""
   ]
  },
  {
   "cell_type": "code",
   "execution_count": 8,
   "metadata": {},
   "outputs": [],
   "source": [
    "df_modificado = df"
   ]
  },
  {
   "cell_type": "code",
   "execution_count": 9,
   "metadata": {},
   "outputs": [],
   "source": [
    "df_modificado['preco_anterior'] = df_modificado['preco_anterior'].str.replace(',', '.').astype(float)\n",
    "df_modificado['preco_atual'] = df_modificado['preco_atual'].str.replace(',', '.').astype(float)\n",
    "df_modificado['desconto_reais'] = df_modificado['preco_anterior'] - df_modificado['preco_atual']"
   ]
  },
  {
   "cell_type": "code",
   "execution_count": 10,
   "metadata": {},
   "outputs": [],
   "source": [
    "def calcular_pontuacao(row, lojas_vistas):\n",
    "    pontuacao = 0\n",
    "    \n",
    "    if row[\"porcentagem_desconto\"] >= 50:\n",
    "        pontuacao += 5\n",
    "    elif row[\"porcentagem_desconto\"] >= 45:\n",
    "        pontuacao += 4\n",
    "    elif row[\"porcentagem_desconto\"] >= 40:\n",
    "        pontuacao += 2\n",
    "    elif row[\"porcentagem_desconto\"] >= 35:\n",
    "        pontuacao += 1\n",
    "    \n",
    "    if row[\"desconto_reais\"] > 1000 and row[\"porcentagem_desconto\"] < 50:\n",
    "        pontuacao += 5\n",
    "    elif row[\"desconto_reais\"] > 600 and row[\"porcentagem_desconto\"] < 40:\n",
    "        pontuacao += 4\n",
    "    elif row[\"desconto_reais\"] > 300 and row[\"porcentagem_desconto\"] < 20:\n",
    "        pontuacao += 3\n",
    "    elif row[\"desconto_reais\"] > 100 and row[\"porcentagem_desconto\"] < 10:\n",
    "        pontuacao += 3\n",
    "    \n",
    "    if pd.notna(row[\"highlight\"]):\n",
    "        pontuacao += 1\n",
    "    if pd.notna(row[\"vendido_por\"]):\n",
    "        pontuacao += 1\n",
    "    if pd.notna(row[\"detalhe_envio\"]) or pd.notna(row[\"detalhe_envio_2\"]):\n",
    "        pontuacao += 1\n",
    "    \n",
    "    if pd.notna(row[\"vendido_por\"]) and row[\"vendido_por\"] in lojas_vistas and row[\"vendido_por\"] != \"Por Mercado Livre\":\n",
    "        pontuacao -= 3\n",
    "    \n",
    "    if pd.notna(row[\"vendido_por\"]):\n",
    "        lojas_vistas.add(row[\"vendido_por\"])\n",
    "\n",
    "    if \"Kit\" in str(row[\"titulo\"]):\n",
    "        pontuacao += 2\n",
    "\n",
    "    if \"Jogo De\" in str(row[\"titulo\"]):\n",
    "        pontuacao += 2\n",
    "\n",
    "    return pontuacao\n",
    "\n",
    "lojas_vistas = set()\n",
    "\n",
    "df[\"pontuacao\"] = df.apply(calcular_pontuacao, axis=1, lojas_vistas=lojas_vistas)\n",
    "\n",
    "def classificar_relevancia(pontuacao):\n",
    "    if pontuacao >= 8:\n",
    "        return \"Relevante\"\n",
    "    elif pontuacao >= 6:\n",
    "        return \"Alta-Relevância\"\n",
    "    elif pontuacao >= 5:\n",
    "        return \"Média-Relevância\"\n",
    "    elif pontuacao >= 2:\n",
    "        return \"Baixa-Relevância\"\n",
    "    else:\n",
    "        return \"Irrelevante\"\n",
    "\n",
    "df[\"relevancia\"] = df[\"pontuacao\"].apply(classificar_relevancia)"
   ]
  },
  {
   "cell_type": "code",
   "execution_count": 11,
   "metadata": {},
   "outputs": [
    {
     "data": {
      "text/plain": [
       "relevancia\n",
       "Irrelevante         75\n",
       "Baixa-Relevância    32\n",
       "Média-Relevância     6\n",
       "Alta-Relevância      4\n",
       "Relevante            1\n",
       "Name: count, dtype: int64"
      ]
     },
     "execution_count": 11,
     "metadata": {},
     "output_type": "execute_result"
    }
   ],
   "source": [
    "df_modificado['relevancia'].value_counts()"
   ]
  },
  {
   "cell_type": "code",
   "execution_count": 12,
   "metadata": {},
   "outputs": [],
   "source": [
    "df_modificado.to_excel(r\"C:\\Users\\55359\\Downloads\\base2.xlsx\", index=False)"
   ]
  }
 ],
 "metadata": {
  "kernelspec": {
   "display_name": ".venv",
   "language": "python",
   "name": "python3"
  },
  "language_info": {
   "codemirror_mode": {
    "name": "ipython",
    "version": 3
   },
   "file_extension": ".py",
   "mimetype": "text/x-python",
   "name": "python",
   "nbconvert_exporter": "python",
   "pygments_lexer": "ipython3",
   "version": "3.11.0"
  }
 },
 "nbformat": 4,
 "nbformat_minor": 2
}
